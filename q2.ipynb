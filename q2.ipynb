{
  "nbformat": 4,
  "nbformat_minor": 0,
  "metadata": {
    "colab": {
      "provenance": [],
      "authorship_tag": "ABX9TyOsulq/Kv/OeXjict6rt+0g",
      "include_colab_link": true
    },
    "kernelspec": {
      "name": "python3",
      "display_name": "Python 3"
    },
    "language_info": {
      "name": "python"
    }
  },
  "cells": [
    {
      "cell_type": "markdown",
      "metadata": {
        "id": "view-in-github",
        "colab_type": "text"
      },
      "source": [
        "<a href=\"https://colab.research.google.com/github/MaryamMortazaviSefat/practice4-text-unsupervised/blob/main/q2.ipynb\" target=\"_parent\"><img src=\"https://colab.research.google.com/assets/colab-badge.svg\" alt=\"Open In Colab\"/></a>"
      ]
    },
    {
      "cell_type": "code",
      "execution_count": 1,
      "metadata": {
        "colab": {
          "base_uri": "https://localhost:8080/"
        },
        "id": "lofwEaVpW4qa",
        "outputId": "329cccfc-fed2-46cf-a7bd-5d1e56a9a8da"
      },
      "outputs": [
        {
          "output_type": "stream",
          "name": "stdout",
          "text": [
            "--2024-10-07 06:27:27--  https://storage.googleapis.com/download.tensorflow.org/data/stack_overflow_16k.tar.gz\n",
            "Resolving storage.googleapis.com (storage.googleapis.com)... 108.177.11.207, 108.177.12.207, 74.125.26.207, ...\n",
            "Connecting to storage.googleapis.com (storage.googleapis.com)|108.177.11.207|:443... connected.\n",
            "HTTP request sent, awaiting response... 200 OK\n",
            "Length: 6053168 (5.8M) [application/x-gzip]\n",
            "Saving to: ‘stack_overflow_16k.tar.gz’\n",
            "\n",
            "stack_overflow_16k. 100%[===================>]   5.77M  --.-KB/s    in 0.1s    \n",
            "\n",
            "2024-10-07 06:27:27 (51.1 MB/s) - ‘stack_overflow_16k.tar.gz’ saved [6053168/6053168]\n",
            "\n"
          ]
        }
      ],
      "source": [
        "#load data\n",
        "!wget https://storage.googleapis.com/download.tensorflow.org/data/stack_overflow_16k.tar.gz\n"
      ]
    },
    {
      "cell_type": "code",
      "source": [
        "!tar -q -xvzf stack_overflow_16k.tar.gz"
      ],
      "metadata": {
        "colab": {
          "base_uri": "https://localhost:8080/"
        },
        "id": "XIml9qSLqfR0",
        "outputId": "388d167c-f3a5-4627-9223-4c4904744ee1"
      },
      "execution_count": 59,
      "outputs": [
        {
          "output_type": "stream",
          "name": "stdout",
          "text": [
            "tar: invalid option -- 'q'\n",
            "Try 'tar --help' or 'tar --usage' for more information.\n"
          ]
        }
      ]
    },
    {
      "cell_type": "code",
      "source": [
        "import numpy as np\n",
        "import matplotlib.pyplot as plt\n",
        "from sklearn.feature_extraction.text import CountVectorizer"
      ],
      "metadata": {
        "id": "m95oLjkeW7bp"
      },
      "execution_count": 60,
      "outputs": []
    },
    {
      "cell_type": "code",
      "source": [
        "import os\n",
        "x_train=[]\n",
        "y_train=[]\n",
        "\n",
        "for i in os.listdir('./train'):\n",
        "  y_train.append(i)\n",
        "  size=500\n",
        "  for j in os.listdir(os.path.join('./train', i)):\n",
        "    if size>0:\n",
        "      size=size-1\n",
        "      with open(os.path.join('./train',i,j)) as f:\n",
        "        x_train.append(f.read())\n",
        "\n",
        "print(len(x_train),len(y_train))"
      ],
      "metadata": {
        "colab": {
          "base_uri": "https://localhost:8080/"
        },
        "id": "Mk2bEJdcwSFt",
        "outputId": "fd6f2414-4e66-4b63-aa8b-ca3e0a271a27"
      },
      "execution_count": 61,
      "outputs": [
        {
          "output_type": "stream",
          "name": "stdout",
          "text": [
            "2000 4\n"
          ]
        }
      ]
    },
    {
      "cell_type": "code",
      "source": [
        "#test\n",
        "print(x_train[0],y_train[0])"
      ],
      "metadata": {
        "colab": {
          "base_uri": "https://localhost:8080/"
        },
        "id": "aoroDxI977cQ",
        "outputId": "150998f1-eaef-40dd-b182-7b68837db747"
      },
      "execution_count": 62,
      "outputs": [
        {
          "output_type": "stream",
          "name": "stdout",
          "text": [
            "\"split comma separated string getting a \"\" \"\" i have a comma separated string array like..,/pictures/222.jpg,/pictures/inbannerbg2.jpg..while i split the array i am getting a  \"\" \"\" value first.and it insert in to the table as null value..how can we remove this...here is my code..build to comma sepparated array..session[\"\"image\"\"] = session[\"\"image\"\"] + \"\",/pictures/\"\" + filename;.        img = session[\"\"image\"\"].tostring();...split array..img = convert.tostring(session[\"\"image\"\"]);.        string[] img_split = img.split(',');...thanks in advance for help\"\n",
            " csharp\n"
          ]
        }
      ]
    },
    {
      "cell_type": "code",
      "source": [
        "x_test=[]\n",
        "y_test=[]\n",
        "\n",
        "for i in os.listdir('./test'):\n",
        "  y_test.append(i)\n",
        "  size=80\n",
        "  for j in os.listdir(os.path.join('./test', i)):\n",
        "    if size>0:\n",
        "      size=size-1\n",
        "      with open(os.path.join('./test',i,j)) as f:\n",
        "        x_test.append(f.read())\n",
        "\n",
        "print(len(x_test),len(y_test))"
      ],
      "metadata": {
        "colab": {
          "base_uri": "https://localhost:8080/"
        },
        "id": "QrgMtEBo-jWr",
        "outputId": "732a103a-fdce-4164-d0c7-edd53a3c8cd0"
      },
      "execution_count": 64,
      "outputs": [
        {
          "output_type": "stream",
          "name": "stdout",
          "text": [
            "320 4\n"
          ]
        }
      ]
    },
    {
      "cell_type": "code",
      "source": [
        "vc=CountVectorizer()\n",
        "vc=vc.fit(x_train)\n",
        "train_txt=vc.transform(x_train).toarray()\n",
        "train_txt.shape"
      ],
      "metadata": {
        "colab": {
          "base_uri": "https://localhost:8080/"
        },
        "id": "3ZZ5mjmyq-MU",
        "outputId": "014e2d7d-8058-44d8-e22b-06d17253d630"
      },
      "execution_count": 50,
      "outputs": [
        {
          "output_type": "execute_result",
          "data": {
            "text/plain": [
              "(2000, 19962)"
            ]
          },
          "metadata": {},
          "execution_count": 50
        }
      ]
    },
    {
      "cell_type": "code",
      "source": [
        "names=vc.get_feature_names_out()\n",
        "names"
      ],
      "metadata": {
        "colab": {
          "base_uri": "https://localhost:8080/"
        },
        "id": "PVGKCjiAAuvh",
        "outputId": "e368fdc3-195e-4b41-bc39-03e20d6086d3"
      },
      "execution_count": 65,
      "outputs": [
        {
          "output_type": "execute_result",
          "data": {
            "text/plain": [
              "array(['00', '000', '0000', ..., 'תרגיל', 'תרגילים', 'תשואה'],\n",
              "      dtype=object)"
            ]
          },
          "metadata": {},
          "execution_count": 65
        }
      ]
    },
    {
      "cell_type": "code",
      "source": [
        "for k in names:\n",
        "  if k=='blank':\n",
        "    print('t')"
      ],
      "metadata": {
        "id": "4VIH-yHCGXGU",
        "outputId": "76c7494e-7047-4278-8eb2-1a6a80c24e51",
        "colab": {
          "base_uri": "https://localhost:8080/"
        }
      },
      "execution_count": 68,
      "outputs": [
        {
          "output_type": "stream",
          "name": "stdout",
          "text": [
            "t\n"
          ]
        }
      ]
    },
    {
      "cell_type": "code",
      "source": [],
      "metadata": {
        "id": "Kth_WwD2Gp4N"
      },
      "execution_count": null,
      "outputs": []
    }
  ]
}