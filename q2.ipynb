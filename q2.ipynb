{
  "nbformat": 4,
  "nbformat_minor": 0,
  "metadata": {
    "colab": {
      "provenance": [],
      "authorship_tag": "ABX9TyM/9g1PXKUCOGyMIDnPl/P6",
      "include_colab_link": true
    },
    "kernelspec": {
      "name": "python3",
      "display_name": "Python 3"
    },
    "language_info": {
      "name": "python"
    }
  },
  "cells": [
    {
      "cell_type": "markdown",
      "metadata": {
        "id": "view-in-github",
        "colab_type": "text"
      },
      "source": [
        "<a href=\"https://colab.research.google.com/github/MaryamMortazaviSefat/practice4-text-unsupervised/blob/main/q1.ipynb\" target=\"_parent\"><img src=\"https://colab.research.google.com/assets/colab-badge.svg\" alt=\"Open In Colab\"/></a>"
      ]
    },
    {
      "cell_type": "code",
      "execution_count": 1,
      "metadata": {
        "colab": {
          "base_uri": "https://localhost:8080/"
        },
        "id": "lofwEaVpW4qa",
        "outputId": "dbc85134-dded-4c77-b53c-fbd51c70edc9"
      },
      "outputs": [
        {
          "output_type": "stream",
          "name": "stdout",
          "text": [
            "--2024-10-07 04:32:09--  https://raw.githubusercontent.com/MaryamMortazaviSefat/practice2_Prediction-of-Persian-Numbers/refs/heads/main/data_hoda.py\n",
            "Resolving raw.githubusercontent.com (raw.githubusercontent.com)... 185.199.108.133, 185.199.109.133, 185.199.110.133, ...\n",
            "Connecting to raw.githubusercontent.com (raw.githubusercontent.com)|185.199.108.133|:443... connected.\n",
            "HTTP request sent, awaiting response... 200 OK\n",
            "Length: 1092 (1.1K) [text/plain]\n",
            "Saving to: ‘data_hoda.py’\n",
            "\n",
            "data_hoda.py        100%[===================>]   1.07K  --.-KB/s    in 0s      \n",
            "\n",
            "2024-10-07 04:32:09 (46.4 MB/s) - ‘data_hoda.py’ saved [1092/1092]\n",
            "\n",
            "--2024-10-07 04:32:10--  https://github.com/MaryamMortazaviSefat/practice2_Prediction-of-Persian-Numbers/raw/refs/heads/main/dataset/Data_hoda_full.mat\n",
            "Resolving github.com (github.com)... 20.27.177.113\n",
            "Connecting to github.com (github.com)|20.27.177.113|:443... connected.\n",
            "HTTP request sent, awaiting response... 302 Found\n",
            "Location: https://raw.githubusercontent.com/MaryamMortazaviSefat/practice2_Prediction-of-Persian-Numbers/refs/heads/main/dataset/Data_hoda_full.mat [following]\n",
            "--2024-10-07 04:32:10--  https://raw.githubusercontent.com/MaryamMortazaviSefat/practice2_Prediction-of-Persian-Numbers/refs/heads/main/dataset/Data_hoda_full.mat\n",
            "Resolving raw.githubusercontent.com (raw.githubusercontent.com)... 185.199.110.133, 185.199.111.133, 185.199.108.133, ...\n",
            "Connecting to raw.githubusercontent.com (raw.githubusercontent.com)|185.199.110.133|:443... connected.\n",
            "HTTP request sent, awaiting response... 200 OK\n",
            "Length: 3989009 (3.8M) [application/octet-stream]\n",
            "Saving to: ‘dataset/Data_hoda_full.mat’\n",
            "\n",
            "Data_hoda_full.mat  100%[===================>]   3.80M  13.6MB/s    in 0.3s    \n",
            "\n",
            "2024-10-07 04:32:11 (13.6 MB/s) - ‘dataset/Data_hoda_full.mat’ saved [3989009/3989009]\n",
            "\n"
          ]
        }
      ],
      "source": [
        "#load data\n",
        "!wget https://raw.githubusercontent.com/MaryamMortazaviSefat/practice2_Prediction-of-Persian-Numbers/refs/heads/main/data_hoda.py\n",
        "!wget https://github.com/MaryamMortazaviSefat/practice2_Prediction-of-Persian-Numbers/raw/refs/heads/main/dataset/Data_hoda_full.mat -P dataset"
      ]
    },
    {
      "cell_type": "code",
      "source": [
        "import numpy as np\n",
        "import matplotlib.pyplot as plt\n",
        "from sklearn.neighbors import KNeighborsClassifier\n",
        "from sklearn.decomposition import PCA\n",
        "import time\n",
        "from data_hoda import knn_classifier,load_hoda"
      ],
      "metadata": {
        "id": "m95oLjkeW7bp"
      },
      "execution_count": 2,
      "outputs": []
    },
    {
      "cell_type": "code",
      "source": [
        "x_train,y_train,x_test,y_test=load_hoda(size=25)"
      ],
      "metadata": {
        "id": "HNm34ldu3h44"
      },
      "execution_count": 3,
      "outputs": []
    },
    {
      "cell_type": "code",
      "source": [
        "#knn\n",
        "knn_st=time.time()\n",
        "neigh=KNeighborsClassifier()\n",
        "neigh.fit(x_train,y_train)\n",
        "acc=neigh.score(x_test,y_test)\n",
        "knn_end=time.time()\n",
        "\n",
        "print(\"acc: {}\\ntime: {}\".format(acc,knn_end-knn_st))"
      ],
      "metadata": {
        "id": "xrFnB3g6X3rG",
        "outputId": "f22a8168-6ecc-47a0-88b8-4f10dff113d9",
        "colab": {
          "base_uri": "https://localhost:8080/"
        }
      },
      "execution_count": 4,
      "outputs": [
        {
          "output_type": "stream",
          "name": "stdout",
          "text": [
            "acc: 0.955\n",
            "time: 0.0723416805267334\n"
          ]
        }
      ]
    },
    {
      "cell_type": "code",
      "source": [
        "#pca\n",
        "\n",
        "pca=PCA(n_components=10)\n",
        "\n",
        "x_train_pca=pca.fit_transform(x_train)\n",
        "x_test_pca=pca.fit_transform(x_test)\n",
        "\n",
        "pca_st=time.time()\n",
        "neigh=KNeighborsClassifier()\n",
        "neigh.fit(x_train_pca,y_train)\n",
        "acc=neigh.score(x_test_pca,y_test)\n",
        "pca_end=time.time()\n",
        "\n",
        "print(\"acc: {}\\ntime: {}\".format(acc,pca_end-pca_st))"
      ],
      "metadata": {
        "id": "KAeZr9AzikJf",
        "outputId": "0a38c848-88a1-4f7e-9748-e2e8dcd9ff69",
        "colab": {
          "base_uri": "https://localhost:8080/"
        }
      },
      "execution_count": 7,
      "outputs": [
        {
          "output_type": "stream",
          "name": "stdout",
          "text": [
            "acc: 0.43\n",
            "time: 0.04939150810241699\n"
          ]
        }
      ]
    },
    {
      "cell_type": "markdown",
      "source": [
        "با پی سی ای دقت پایین و سرعت بیشتر شد."
      ],
      "metadata": {
        "id": "lG28t2jpQvOw"
      }
    }
  ]
}