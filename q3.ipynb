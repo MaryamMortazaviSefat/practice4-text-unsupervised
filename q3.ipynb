{
  "nbformat": 4,
  "nbformat_minor": 0,
  "metadata": {
    "colab": {
      "provenance": [],
      "authorship_tag": "ABX9TyPc15EVTptYi0Fbt52qf9Vc",
      "include_colab_link": true
    },
    "kernelspec": {
      "name": "python3",
      "display_name": "Python 3"
    },
    "language_info": {
      "name": "python"
    }
  },
  "cells": [
    {
      "cell_type": "markdown",
      "metadata": {
        "id": "view-in-github",
        "colab_type": "text"
      },
      "source": [
        "<a href=\"https://colab.research.google.com/github/MaryamMortazaviSefat/practice4-text-unsupervised/blob/main/q3.ipynb\" target=\"_parent\"><img src=\"https://colab.research.google.com/assets/colab-badge.svg\" alt=\"Open In Colab\"/></a>"
      ]
    },
    {
      "cell_type": "code",
      "execution_count": 1,
      "metadata": {
        "colab": {
          "base_uri": "https://localhost:8080/"
        },
        "id": "lofwEaVpW4qa",
        "outputId": "bbdbab1f-d96f-4011-ed78-292d3ef0d5f0"
      },
      "outputs": [
        {
          "output_type": "stream",
          "name": "stdout",
          "text": [
            "--2024-10-07 11:38:39--  https://storage.googleapis.com/download.tensorflow.org/data/stack_overflow_16k.tar.gz\n",
            "Resolving storage.googleapis.com (storage.googleapis.com)... 108.177.12.207, 74.125.26.207, 172.217.204.207, ...\n",
            "Connecting to storage.googleapis.com (storage.googleapis.com)|108.177.12.207|:443... connected.\n",
            "HTTP request sent, awaiting response... 200 OK\n",
            "Length: 6053168 (5.8M) [application/x-gzip]\n",
            "Saving to: ‘stack_overflow_16k.tar.gz’\n",
            "\n",
            "stack_overflow_16k. 100%[===================>]   5.77M  --.-KB/s    in 0.1s    \n",
            "\n",
            "2024-10-07 11:38:39 (48.4 MB/s) - ‘stack_overflow_16k.tar.gz’ saved [6053168/6053168]\n",
            "\n"
          ]
        }
      ],
      "source": [
        "#load data\n",
        "!wget https://storage.googleapis.com/download.tensorflow.org/data/stack_overflow_16k.tar.gz\n"
      ]
    },
    {
      "cell_type": "code",
      "source": [
        "!tar -xzf stack_overflow_16k.tar.gz"
      ],
      "metadata": {
        "id": "XIml9qSLqfR0"
      },
      "execution_count": 2,
      "outputs": []
    },
    {
      "cell_type": "code",
      "source": [
        "import numpy as np\n",
        "import matplotlib.pyplot as plt\n",
        "from sklearn.feature_extraction.text import CountVectorizer\n",
        "import random"
      ],
      "metadata": {
        "id": "m95oLjkeW7bp"
      },
      "execution_count": 5,
      "outputs": []
    },
    {
      "cell_type": "code",
      "source": [
        "import os\n",
        "\n",
        "data=[]\n",
        "\n",
        "for label in os.listdir('./train'):\n",
        "  size=500\n",
        "  for i in os.listdir(os.path.join('./train', label)):\n",
        "    if size>0:\n",
        "      size=size-1\n",
        "      with open(os.path.join('./train',label,i)) as f:\n",
        "        data.append([f.read(),label])\n",
        "\n",
        "random.shuffle(data)\n",
        "\n",
        "x_train=[]\n",
        "y_train=[]\n",
        "\n",
        "for i in range(40):\n",
        "  x_train.append(data[i][0])\n",
        "  if data[i][1]==\"csharp\":\n",
        "    y_train.append(0)\n",
        "  elif data[i][1]=='java':\n",
        "    y_train.append(1)\n",
        "  elif data[i][1]=='javascript':\n",
        "    y_train.append(2)\n",
        "  elif data[i][1]=='python':\n",
        "    y_train.append(3)\n",
        "\n",
        "print(len(x_train),len(y_train))"
      ],
      "metadata": {
        "colab": {
          "base_uri": "https://localhost:8080/"
        },
        "id": "Mk2bEJdcwSFt",
        "outputId": "0b25ba43-8eff-49cb-d426-080aa642a7a6"
      },
      "execution_count": 6,
      "outputs": [
        {
          "output_type": "stream",
          "name": "stdout",
          "text": [
            "40 40\n"
          ]
        }
      ]
    },
    {
      "cell_type": "code",
      "source": [],
      "metadata": {
        "id": "Kth_WwD2Gp4N"
      },
      "execution_count": null,
      "outputs": []
    }
  ]
}